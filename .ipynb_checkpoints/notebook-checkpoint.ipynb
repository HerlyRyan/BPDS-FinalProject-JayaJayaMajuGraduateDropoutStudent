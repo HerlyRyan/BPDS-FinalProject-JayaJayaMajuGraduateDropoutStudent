{
 "cells": [
  {
   "cell_type": "markdown",
   "metadata": {},
   "source": [
    "# Proyek Akhir: Menyelesaikan Permasalahan Perusahaan Edutech"
   ]
  },
  {
   "cell_type": "markdown",
   "metadata": {},
   "source": [
    "- Nama: Herly Riyanto Hidayat\n",
    "- Email: herlynjjd@gmail.com\n",
    "- Id Dicoding: heryryanth"
   ]
  },
  {
   "cell_type": "markdown",
   "metadata": {},
   "source": [
    "## Persiapan"
   ]
  },
  {
   "cell_type": "markdown",
   "metadata": {},
   "source": [
    "### Menyiapkan library yang dibutuhkan"
   ]
  },
  {
   "cell_type": "code",
   "execution_count": null,
   "metadata": {},
   "outputs": [],
   "source": [
    "# Data manipulation\n",
    "import pandas as pd\n",
    "import numpy as np\n",
    "import os\n",
    "\n",
    "# Visualization\n",
    "import matplotlib.pyplot as plt\n",
    "import seaborn as sns\n",
    "\n",
    "# Machine learning\n",
    "from sklearn.preprocessing import LabelEncoder, StandardScaler\n",
    "from sklearn.feature_selection import SelectKBest, f_classif\n",
    "from imblearn.over_sampling import SMOTE\n",
    "from collections import Counter\n",
    "from sklearn.model_selection import train_test_split\n",
    "from sklearn.ensemble import RandomForestClassifier\n",
    "from sklearn.metrics import classification_report, confusion_matrix\n",
    "from sklearn.model_selection import GridSearchCV\n",
    "import joblib # Save the model"
   ]
  },
  {
   "cell_type": "markdown",
   "metadata": {},
   "source": [
    "### Menyiapkan data yang akan diguankan"
   ]
  },
  {
   "cell_type": "markdown",
   "metadata": {},
   "source": [
    "## Data Understanding"
   ]
  },
  {
   "cell_type": "code",
   "execution_count": null,
   "metadata": {},
   "outputs": [],
   "source": [
    "# URL to the raw dataset\n",
    "url = \"https://raw.githubusercontent.com/dicodingacademy/dicoding_dataset/main/students_performance/data.csv\"\n",
    "\n",
    "# Load the dataset\n",
    "df = pd.read_csv(url, sep=';')\n",
    "\n",
    "# Display the first five rows\n",
    "df.head()"
   ]
  },
  {
   "cell_type": "markdown",
   "metadata": {},
   "source": [
    "### Check missing Value"
   ]
  },
  {
   "cell_type": "code",
   "execution_count": null,
   "metadata": {},
   "outputs": [],
   "source": [
    "df.isnull().sum()"
   ]
  },
  {
   "cell_type": "markdown",
   "metadata": {},
   "source": [
    "### Check the duplicated value"
   ]
  },
  {
   "cell_type": "code",
   "execution_count": null,
   "metadata": {},
   "outputs": [],
   "source": [
    "df.duplicated().sum()"
   ]
  },
  {
   "cell_type": "markdown",
   "metadata": {},
   "source": [
    "### Check varians of data type"
   ]
  },
  {
   "cell_type": "code",
   "execution_count": null,
   "metadata": {},
   "outputs": [],
   "source": [
    "df.info()"
   ]
  },
  {
   "cell_type": "markdown",
   "metadata": {},
   "source": [
    "**insight**\n",
    "1. Data tidak memiliki missing value, dan duplicated value\n",
    "2. Tipe datanya memiliki 7 kolom bertipe float, 29 kolom bertipe int, dan 1 kolom bertipe object\n",
    "3. 1 kolom bertipe object yang nama kolomnya Status, merupakan target, dan 36 kolom lainnya ada feature"
   ]
  },
  {
   "cell_type": "markdown",
   "metadata": {},
   "source": [
    "### Exploratory Data Analysis"
   ]
  },
  {
   "cell_type": "markdown",
   "metadata": {},
   "source": [
    "#### Univariate Analysis on Status column"
   ]
  },
  {
   "cell_type": "code",
   "execution_count": null,
   "metadata": {},
   "outputs": [],
   "source": [
    "# Count the occurrences of each category in the target variable\n",
    "status_counts = df['Status'].value_counts()\n",
    "print(status_counts)\n",
    "\n",
    "print(\"\\nPercentage Distribution:\")\n",
    "print((status_counts / len(df) * 100).round(2))\n",
    "\n",
    "# Plot class distribution\n",
    "plt.figure(figsize=(6, 4))\n",
    "sns.countplot(data=df, x='Status', hue='Status')\n",
    "plt.title('Distribution of Student Outcomes')\n",
    "plt.xlabel('Status')\n",
    "plt.ylabel('Count')\n",
    "plt.show()"
   ]
  },
  {
   "cell_type": "markdown",
   "metadata": {},
   "source": [
    "#### Bivariate Analysis Effect of Admission_grade on Status column"
   ]
  },
  {
   "cell_type": "code",
   "execution_count": null,
   "metadata": {},
   "outputs": [],
   "source": [
    "plt.figure(figsize=(10, 4))\n",
    "sns.boxplot(x='Status', y='Admission_grade', data=df, hue='Status')\n",
    "plt.title('Admission Grade by Student Status')\n",
    "plt.ylabel('Admission Grade')\n",
    "plt.xlabel('Status')\n",
    "plt.show()"
   ]
  },
  {
   "cell_type": "markdown",
   "metadata": {},
   "source": [
    "#### Bivariate Analysis Effect of First Semester Grade on Status column"
   ]
  },
  {
   "cell_type": "code",
   "execution_count": null,
   "metadata": {},
   "outputs": [],
   "source": [
    "plt.figure(figsize=(10, 4))\n",
    "sns.boxplot(x='Status', y='Curricular_units_1st_sem_grade', data=df, hue='Status')\n",
    "plt.title('First Semester Grade by Student Status')\n",
    "plt.ylabel('1st Semester Grade')\n",
    "plt.xlabel('Status')\n",
    "plt.show()"
   ]
  },
  {
   "cell_type": "markdown",
   "metadata": {},
   "source": [
    "#### Bivariate Analysis Effect of Scholarship on Status column"
   ]
  },
  {
   "cell_type": "code",
   "execution_count": null,
   "metadata": {},
   "outputs": [],
   "source": [
    "plt.figure(figsize=(10, 4))\n",
    "sns.countplot(x='Scholarship_holder', hue='Status', data=df, palette='Set1')\n",
    "plt.title('Scholarship Ownership vs Status')\n",
    "plt.ylabel('Count')\n",
    "plt.xlabel('Scholarship Ownership')\n",
    "plt.show()"
   ]
  },
  {
   "cell_type": "markdown",
   "metadata": {},
   "source": [
    "#### Bivariate Analysis Effect of Tuition Fee on Status column"
   ]
  },
  {
   "cell_type": "code",
   "execution_count": null,
   "metadata": {},
   "outputs": [],
   "source": [
    "plt.figure(figsize=(10, 4))\n",
    "sns.countplot(x='Tuition_fees_up_to_date', hue='Status', data=df, palette='Set2')\n",
    "plt.title('Tuition Fee Status vs Status')\n",
    "plt.ylabel('Count')\n",
    "plt.xlabel('Tuition Fee Status')\n",
    "plt.show()"
   ]
  },
  {
   "cell_type": "markdown",
   "metadata": {},
   "source": [
    "#### Bivariate Analysis Effect of Debtor on Status column"
   ]
  },
  {
   "cell_type": "code",
   "execution_count": null,
   "metadata": {},
   "outputs": [],
   "source": [
    "plt.figure(figsize=(10, 4))\n",
    "sns.countplot(x='Debtor', hue='Status', data=df, palette='Set3')\n",
    "plt.title('Debt Status vs Status')\n",
    "plt.ylabel('Count')\n",
    "plt.xlabel('Debt Status')\n",
    "plt.show()"
   ]
  },
  {
   "cell_type": "markdown",
   "metadata": {},
   "source": [
    "#### Correlation Matrix"
   ]
  },
  {
   "cell_type": "code",
   "execution_count": null,
   "metadata": {},
   "outputs": [],
   "source": [
    "# Select only numerical columns\n",
    "numeric_df = df.select_dtypes(include=['number'])\n",
    "\n",
    "# Compute the full correlation matrix\n",
    "corr_matrix = numeric_df.corr()\n",
    "\n",
    "# Set a threshold for \"strong\" correlation\n",
    "threshold = 0.6\n",
    "strong_corr = corr_matrix[(abs(corr_matrix) >= threshold) & (abs(corr_matrix) < 1)]\n",
    "\n",
    "# Visualize with a heatmap\n",
    "plt.figure(figsize=(16, 12))\n",
    "sns.heatmap(strong_corr, annot=True, cmap='coolwarm', center=0, linewidths=0.5)\n",
    "plt.title('Heatmap of Strong Correlations (|corr| ≥ 0.6)')\n",
    "plt.show()"
   ]
  },
  {
   "cell_type": "markdown",
   "metadata": {},
   "source": [
    "**Insight:**\n",
    "1. Siswa dengan Admission Grade (Nilai Penerimaan) yang tinggi cenderung lebih bisa Graduate\n",
    "2. Siswa dengan Nilai Semester pertama yang tinggi cenderung Graduate\n",
    "3. Siswa yang mendapatkan Beasiswa rate Dropoutnya lebih kecil dari pada siswa yang tidak mendapatkan Beasiswa (Scholarschip)\n",
    "4. Pengaruh dari Tuition Fee bisa dibilang dapat mempengaruhi rate Dropout yang lebih tinggi\n",
    "5. Debt Status memiliki pengaruh terhadap siswa yang Graduate dan juga Dropout"
   ]
  },
  {
   "cell_type": "markdown",
   "metadata": {},
   "source": [
    "## Data Preparation / Preprocessing"
   ]
  },
  {
   "cell_type": "code",
   "execution_count": null,
   "metadata": {},
   "outputs": [],
   "source": []
  },
  {
   "cell_type": "markdown",
   "metadata": {},
   "source": [
    "## Modeling"
   ]
  },
  {
   "cell_type": "code",
   "execution_count": null,
   "metadata": {},
   "outputs": [],
   "source": []
  },
  {
   "cell_type": "markdown",
   "metadata": {},
   "source": [
    "## Evaluation"
   ]
  },
  {
   "cell_type": "code",
   "execution_count": null,
   "metadata": {},
   "outputs": [],
   "source": []
  }
 ],
 "metadata": {
  "kernelspec": {
   "display_name": "Python 3 (ipykernel)",
   "language": "python",
   "name": "python3"
  },
  "language_info": {
   "codemirror_mode": {
    "name": "ipython",
    "version": 3
   },
   "file_extension": ".py",
   "mimetype": "text/x-python",
   "name": "python",
   "nbconvert_exporter": "python",
   "pygments_lexer": "ipython3",
   "version": "3.13.2"
  }
 },
 "nbformat": 4,
 "nbformat_minor": 4
}
